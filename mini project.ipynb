{
  "nbformat": 4,
  "nbformat_minor": 0,
  "metadata": {
    "colab": {
      "provenance": [],
      "gpuType": "T4"
    },
    "kernelspec": {
      "name": "python3",
      "display_name": "Python 3"
    },
    "language_info": {
      "name": "python"
    },
    "accelerator": "GPU"
  },
  "cells": [
    {
      "cell_type": "code",
      "execution_count": null,
      "metadata": {
        "colab": {
          "base_uri": "https://localhost:8080/"
        },
        "id": "5qAZ4wtx8zzg",
        "outputId": "bbf4b5a9-9683-4789-cf52-dcf568c475e7"
      },
      "outputs": [
        {
          "output_type": "stream",
          "name": "stdout",
          "text": [
            "Drive not mounted, so nothing to flush and unmount.\n"
          ]
        }
      ],
      "source": [
        "from google.colab import drive\n",
        "drive.flush_and_unmount()\n",
        "\n"
      ]
    },
    {
      "cell_type": "code",
      "source": [
        "!git clone https://github.com/LaasyaGujjula/dataset\n",
        "!cd dataset"
      ],
      "metadata": {
        "colab": {
          "base_uri": "https://localhost:8080/"
        },
        "id": "To0sDIfb84YZ",
        "outputId": "f2da56f6-fd08-4600-adac-7e3cd4d42fa6"
      },
      "execution_count": null,
      "outputs": [
        {
          "output_type": "stream",
          "name": "stdout",
          "text": [
            "Cloning into 'dataset'...\n",
            "remote: Enumerating objects: 173211, done.\u001b[K\n",
            "remote: Total 173211 (delta 0), reused 0 (delta 0), pack-reused 173211\u001b[K\n",
            "Receiving objects: 100% (173211/173211), 1.52 GiB | 33.42 MiB/s, done.\n",
            "Updating files: 100% (190335/190335), done.\n"
          ]
        }
      ]
    },
    {
      "cell_type": "code",
      "source": [
        "import tensorflow as tf\n",
        "from tensorflow.keras.applications import MobileNetV2\n",
        "from tensorflow.keras.layers import Dense, Flatten, Dropout\n",
        "from tensorflow.keras.models import Model\n",
        "from tensorflow.keras.preprocessing.image import ImageDataGenerator, load_img, img_to_array\n",
        "from tensorflow.keras.optimizers import Adam\n",
        "import os\n",
        "import numpy as np"
      ],
      "metadata": {
        "id": "ymZfC4f38-RQ"
      },
      "execution_count": null,
      "outputs": []
    },
    {
      "cell_type": "code",
      "source": [
        "base_dir = '/content/dataset'\n",
        "train_dir = os.path.join(base_dir, 'Train')\n",
        "val_dir = os.path.join(base_dir, 'Validation')\n",
        "test_dir = os.path.join(base_dir, 'Test')\n",
        "\n",
        "batch_size = 32\n",
        "img_size = (128, 128)  # Reduced image size for faster processing\n",
        "\n",
        "train_datagen = ImageDataGenerator(\n",
        "    rescale=1./255,\n",
        "    horizontal_flip=True,\n",
        "    rotation_range=20,\n",
        "    zoom_range=0.2,\n",
        "    shear_range=0.2\n",
        ")\n",
        "val_datagen = ImageDataGenerator(rescale=1./255)\n",
        "test_datagen = ImageDataGenerator(rescale=1./255)\n",
        "\n",
        "train_generator = train_datagen.flow_from_directory(train_dir, target_size=img_size, batch_size=batch_size, class_mode='binary')\n",
        "val_generator = val_datagen.flow_from_directory(val_dir, target_size=img_size, batch_size=batch_size, class_mode='binary')\n",
        "test_generator = test_datagen.flow_from_directory(test_dir, target_size=img_size, batch_size=batch_size, class_mode='binary')\n",
        "\n",
        "mobilenet_base = MobileNetV2(weights='imagenet', include_top=False, input_shape=(128, 128, 3))\n",
        "x = Flatten()(mobilenet_base.output)\n",
        "x = Dense(1024, activation='relu')(x)\n",
        "x = Dropout(0.5)(x)\n",
        "x = Dense(512, activation='relu')(x)\n",
        "x = Dropout(0.5)(x)\n",
        "output = Dense(1, activation='sigmoid')(x)\n",
        "mobilenet_model = Model(inputs=mobilenet_base.input, outputs=output)\n"
      ],
      "metadata": {
        "colab": {
          "base_uri": "https://localhost:8080/"
        },
        "id": "Fin5Zcue9Q2V",
        "outputId": "228dbb77-40b1-4f84-81ba-d47884d2eddf"
      },
      "execution_count": null,
      "outputs": [
        {
          "output_type": "stream",
          "name": "stdout",
          "text": [
            "Found 140002 images belonging to 2 classes.\n",
            "Found 39428 images belonging to 2 classes.\n",
            "Found 10905 images belonging to 2 classes.\n",
            "Downloading data from https://storage.googleapis.com/tensorflow/keras-applications/mobilenet_v2/mobilenet_v2_weights_tf_dim_ordering_tf_kernels_1.0_128_no_top.h5\n",
            "9406464/9406464 [==============================] - 0s 0us/step\n"
          ]
        }
      ]
    },
    {
      "cell_type": "code",
      "source": [
        "\n",
        "mobilenet_model = Model(inputs=mobilenet_base.input, outputs=output)\n",
        "\n",
        "for layer in mobilenet_base.layers:\n",
        "    layer.trainable = False\n",
        "\n",
        "mobilenet_model.compile(optimizer=Adam(learning_rate=1e-4), loss='binary_crossentropy', metrics=['accuracy'])"
      ],
      "metadata": {
        "id": "jjLLpCYZ9T9k"
      },
      "execution_count": null,
      "outputs": []
    },
    {
      "cell_type": "code",
      "source": [
        "# Unfreeze the last 20 layers for fine-tuning\n",
        "for layer in mobilenet_base.layers[-20:]:\n",
        "    layer.trainable = True"
      ],
      "metadata": {
        "id": "GohL_rYm9XaK"
      },
      "execution_count": null,
      "outputs": []
    },
    {
      "cell_type": "code",
      "source": [
        "epochs = 1  # Reduced number of epochs for quicker training\n",
        "\n",
        "mobilenet_model.fit(train_generator, epochs=epochs, validation_data=val_generator)"
      ],
      "metadata": {
        "colab": {
          "base_uri": "https://localhost:8080/"
        },
        "id": "pN-fAjQW9Z69",
        "outputId": "44709a0b-07c1-4212-d0d5-ede05d2f4262"
      },
      "execution_count": null,
      "outputs": [
        {
          "output_type": "stream",
          "name": "stdout",
          "text": [
            "4376/4376 [==============================] - 731s 165ms/step - loss: 0.4875 - accuracy: 0.7680 - val_loss: 0.4380 - val_accuracy: 0.7952\n"
          ]
        },
        {
          "output_type": "execute_result",
          "data": {
            "text/plain": [
              "<keras.src.callbacks.History at 0x784af82ffeb0>"
            ]
          },
          "metadata": {},
          "execution_count": 7
        }
      ]
    },
    {
      "cell_type": "code",
      "source": [
        "\n",
        "mobilenet_loss, mobilenet_acc = mobilenet_model.evaluate(test_generator)\n",
        "\n",
        "print(f'MobileNetV2 Test Accuracy: tg{mobilenet_acc}')"
      ],
      "metadata": {
        "colab": {
          "base_uri": "https://localhost:8080/"
        },
        "id": "Rv2qNK6o_zcR",
        "outputId": "09200d79-7a8f-4d50-c18f-0ec803612c95"
      },
      "execution_count": null,
      "outputs": [
        {
          "output_type": "stream",
          "name": "stdout",
          "text": [
            "341/341 [==============================] - 14s 42ms/step - loss: 0.5311 - accuracy: 0.7342\n",
            "MobileNetV2 Test Accuracy: tg0.7341586351394653\n"
          ]
        }
      ]
    },
    {
      "cell_type": "code",
      "source": [
        "def predict_image(model, img_path):\n",
        "    img = load_img(img_path, target_size=(128, 128))\n",
        "    img_array = img_to_array(img) / 255.0\n",
        "    img_array = np.expand_dims(img_array, axis=0)\n",
        "\n",
        "    prediction = model.predict(img_array)\n",
        "\n",
        "    if prediction[0][0] > 0.5:\n",
        "        print(\"The image is predicted to be real.\")\n",
        "    else:\n",
        "        print(\"The image is predicted to be fake.\")\n",
        "\n",
        "# Example usage\n",
        "image_path = '/content/dataset/Test/Fake/fake_100.jpg'\n",
        "predict_image(mobilenet_model, image_path)"
      ],
      "metadata": {
        "colab": {
          "base_uri": "https://localhost:8080/"
        },
        "id": "W85dJ1BtAZxz",
        "outputId": "0e7c1993-ff6e-445f-a042-13da137ae611"
      },
      "execution_count": null,
      "outputs": [
        {
          "output_type": "stream",
          "name": "stdout",
          "text": [
            "1/1 [==============================] - 0s 39ms/step\n",
            "The image is predicted to be fake.\n"
          ]
        }
      ]
    }
  ]
}